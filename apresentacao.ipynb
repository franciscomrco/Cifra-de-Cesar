{
 "cells": [
  {
   "cell_type": "markdown",
   "metadata": {},
   "source": [
    "## APRESENTAÇÃO - CIFRA DE CÉSAR\n",
    "\n",
    "*Por: Francisco Américo*"
   ]
  },
  {
   "cell_type": "markdown",
   "metadata": {},
   "source": [
    "### Introdução\n",
    "\n",
    "* Um dos primeiros indicios de criptofrafia registrados foi no império romano 50a.C.\n",
    "\n",
    "\n",
    "* Imperador Júlio César utilizava de um método para cifrar as mensagens enviadas para os militares.\n",
    "\n",
    "\n",
    "* Esse método ficou conhecido como **Cifra de César**.\n"
   ]
  },
  {
   "cell_type": "markdown",
   "metadata": {},
   "source": [
    "### Funcionamento\n",
    "\n",
    "A cifra de césar é uma criptografia baseada no processo de substituição simples das letras do alfabeto."
   ]
  },
  {
   "cell_type": "markdown",
   "metadata": {},
   "source": [
    "1. Tome como exemplo o alfabeto normal:\n",
    "\n",
    "    A B C D E F G H I J K L M N O P Q R S T U V W X Y Z\n",
    "    \n",
    "    \n",
    "2. Aplique processo de criptografia com a Cifra de César (k=1):\n",
    "\n",
    "    2.1 Disco cifrado de césar\n",
    "    \n",
    "    2.2 Software\n",
    "    \n",
    "    \n",
    "\n",
    "3. Resultado:\n",
    "    \n",
    "    Z A B C D E F G H I J K L M N O P Q R S T U V W X Y"
   ]
  },
  {
   "cell_type": "markdown",
   "metadata": {},
   "source": [
    "**Disco Cifrado de César**"
   ]
  },
  {
   "cell_type": "markdown",
   "metadata": {},
   "source": [
    "\"O disco cifrado de César é usado para mostrar como as letras\n",
    "do alfabeto aberto (disco mais externo) estão relacionadas com as letras do\n",
    "alfabeto cifrado (disco mais interno)\""
   ]
  },
  {
   "cell_type": "markdown",
   "metadata": {},
   "source": [
    "<div>\n",
    "<img src=\"discocrifradocesar.jpg\" width=\"550\"/>\n",
    "</div>"
   ]
  },
  {
   "cell_type": "markdown",
   "metadata": {},
   "source": [
    "**MATEMÁTICA**\n",
    "\n",
    "**Para criptografar:**\n",
    "\n",
    "C = (k + n) mod26\n",
    "\n",
    "\n",
    "**Para descriptografar:**\n",
    "\n",
    "D = (k - n) mod26\n",
    "\n",
    "\n",
    "**Onde:**\n",
    "\n",
    "k = chave\n",
    "\n",
    "n = texto\n",
    "\n",
    "mod26 = resto da divisão por 26"
   ]
  },
  {
   "cell_type": "markdown",
   "metadata": {},
   "source": [
    "### SEGURANÇA DA CIFRA DE CÉSAR\n",
    "\n",
    "* Baseada em substituição simples\n",
    "* Chave simétrica (criptografa e descriptografa com mesma chave)\n",
    "* Chave tem que ser previamente compartilhada\n",
    "* Como relaciona uma letra do alfabeto a outra diretamente, esta criptografia é fraca\n"
   ]
  },
  {
   "cell_type": "markdown",
   "metadata": {},
   "source": [
    "**2 Formas de quebrar a criptografia de césar**\n",
    "\n",
    "1. Interceptar a chave, uma vez que ela tem que ser compartilhada com os participantes;\n",
    "\n",
    "\n",
    "2. Testar todas as possibilidades, uma vez que o texto cifrado não altera a posição das palavras, somente das letras;\n",
    "\n",
    "\n",
    "* Uma terceira forma seria análise estatística da frequência das palavras"
   ]
  },
  {
   "cell_type": "markdown",
   "metadata": {},
   "source": [
    "### Hora do teste"
   ]
  },
  {
   "cell_type": "markdown",
   "metadata": {},
   "source": [
    "Código adaptado de James Lyons - https://gist.github.com/jameslyons/8701593\n",
    "\n",
    "1. Testar o alfabeto\n",
    "\n",
    "A B C D E F G H I J K L M N O P Q R S T U V W X Y Z\n",
    "\n",
    "\n",
    "2. Criptografar a frase\n",
    "\n",
    "“AS MARGENS DE UMA FLORESTA EXISTIA, HA MUITO TEMPO, UMA CABANA\n",
    "POBRE FEITA DE TRONCOS DE ARVORES, ONDE MORAVAM UM LENHADOR,\n",
    "SUA SEGUNDA ESPOSA E SEUS DOIS FILHINHOS, NASCIDOS DO PRIMEIRO\n",
    "CASAMENTO. O GAROTO CHAMAVA-SE JOAO E A MENINA, MARIA”\n",
    "\n",
    "\n",
    "3. Descriptografar\n",
    "\n",
    "4. Quebrar a criptografia - força bruta\n",
    "5. Verificar no site:\n",
    "https://www.dcode.fr/caesar-cipher\n"
   ]
  },
  {
   "cell_type": "code",
   "execution_count": null,
   "metadata": {},
   "outputs": [],
   "source": []
  },
  {
   "cell_type": "code",
   "execution_count": 1,
   "metadata": {},
   "outputs": [
    {
     "name": "stdout",
     "output_type": "stream",
     "text": [
      "Texto que sera cifrado, sem acento, com a chave 23 que foi escolhida\n",
      "\n",
      "QBUQL NRB PBOX ZFCOXAL, PBJ XZBKQL, ZLJ X ZEXSB 23 NRB CLF BPZLIEFAX\n"
     ]
    }
   ],
   "source": [
    "# PARA CRIPTOGRAFAR\n",
    "\n",
    "L2I = dict(zip('ABCDEFGHIJKLMNOPQRSTUVWXYZ',range(26)))\n",
    "I2L = dict(zip(range(26),'ABCDEFGHIJKLMNOPQRSTUVWXYZ'))\n",
    "\n",
    "key = 23\n",
    "plaintext = 'Texto que sera cifrado, sem acento, com a chave 23 que foi escolhida'\n",
    "\n",
    "ciphertext = ''\n",
    "\n",
    "for c in plaintext.upper():\n",
    "    if c.isalpha():\n",
    "        ciphertext += I2L[(L2I[c] + key)%26]\n",
    "        #print(ciphertext)\n",
    "    else:\n",
    "        ciphertext += c\n",
    "\n",
    "print(plaintext)\n",
    "print('\\n' + ciphertext)"
   ]
  },
  {
   "cell_type": "code",
   "execution_count": null,
   "metadata": {},
   "outputs": [],
   "source": []
  },
  {
   "cell_type": "code",
   "execution_count": 2,
   "metadata": {},
   "outputs": [
    {
     "name": "stdout",
     "output_type": "stream",
     "text": [
      "TEXTO QUE SERA CIFRADO, SEM ACENTO, COM A CHAVE 23 QUE FOI ESCOLHIDA\n"
     ]
    }
   ],
   "source": [
    "# PARA DESCRIPTOGRAFAR\n",
    "\n",
    "L2I = dict(zip('ABCDEFGHIJKLMNOPQRSTUVWXYZ',range(26)))\n",
    "I2L = dict(zip(range(26),'ABCDEFGHIJKLMNOPQRSTUVWXYZ'))\n",
    "\n",
    "key = -23\n",
    "ciphertext = 'QBUQL NRB PBOX ZFCOXAL, PBJ XZBKQL, ZLJ X ZEXSB 23 NRB CLF BPZLIEFAX'\n",
    "\n",
    "plaintext2 = ''\n",
    "\n",
    "for c in ciphertext.upper():\n",
    "    if c.isalpha():\n",
    "        plaintext2 += I2L[(L2I[c] + key)%26]\n",
    "    else:\n",
    "        plaintext2 += c\n",
    "\n",
    "print(plaintext2)"
   ]
  },
  {
   "cell_type": "code",
   "execution_count": null,
   "metadata": {},
   "outputs": [],
   "source": []
  },
  {
   "cell_type": "code",
   "execution_count": 3,
   "metadata": {},
   "outputs": [
    {
     "name": "stdout",
     "output_type": "stream",
     "text": [
      "QBUQL NRB PBOX ZFCOXAL, PBJ XZBKQL, ZLJ X ZEXSB 23 NRB CLF BPZLIEFAX 0\n",
      "PATPK MQA OANW YEBNWZK, OAI WYAJPK, YKI W YDWRA 23 MQA BKE AOYKHDEZW 1\n",
      "OZSOJ LPZ NZMV XDAMVYJ, NZH VXZIOJ, XJH V XCVQZ 23 LPZ AJD ZNXJGCDYV 2\n",
      "NYRNI KOY MYLU WCZLUXI, MYG UWYHNI, WIG U WBUPY 23 KOY ZIC YMWIFBCXU 3\n",
      "MXQMH JNX LXKT VBYKTWH, LXF TVXGMH, VHF T VATOX 23 JNX YHB XLVHEABWT 4\n",
      "LWPLG IMW KWJS UAXJSVG, KWE SUWFLG, UGE S UZSNW 23 IMW XGA WKUGDZAVS 5\n",
      "KVOKF HLV JVIR TZWIRUF, JVD RTVEKF, TFD R TYRMV 23 HLV WFZ VJTFCYZUR 6\n",
      "JUNJE GKU IUHQ SYVHQTE, IUC QSUDJE, SEC Q SXQLU 23 GKU VEY UISEBXYTQ 7\n",
      "ITMID FJT HTGP RXUGPSD, HTB PRTCID, RDB P RWPKT 23 FJT UDX THRDAWXSP 8\n",
      "HSLHC EIS GSFO QWTFORC, GSA OQSBHC, QCA O QVOJS 23 EIS TCW SGQCZVWRO 9\n",
      "GRKGB DHR FREN PVSENQB, FRZ NPRAGB, PBZ N PUNIR 23 DHR SBV RFPBYUVQN 10\n",
      "FQJFA CGQ EQDM OURDMPA, EQY MOQZFA, OAY M OTMHQ 23 CGQ RAU QEOAXTUPM 11\n",
      "EPIEZ BFP DPCL NTQCLOZ, DPX LNPYEZ, NZX L NSLGP 23 BFP QZT PDNZWSTOL 12\n",
      "DOHDY AEO COBK MSPBKNY, COW KMOXDY, MYW K MRKFO 23 AEO PYS OCMYVRSNK 13\n",
      "CNGCX ZDN BNAJ LROAJMX, BNV JLNWCX, LXV J LQJEN 23 ZDN OXR NBLXUQRMJ 14\n",
      "BMFBW YCM AMZI KQNZILW, AMU IKMVBW, KWU I KPIDM 23 YCM NWQ MAKWTPQLI 15\n",
      "ALEAV XBL ZLYH JPMYHKV, ZLT HJLUAV, JVT H JOHCL 23 XBL MVP LZJVSOPKH 16\n",
      "ZKDZU WAK YKXG IOLXGJU, YKS GIKTZU, IUS G INGBK 23 WAK LUO KYIURNOJG 17\n",
      "YJCYT VZJ XJWF HNKWFIT, XJR FHJSYT, HTR F HMFAJ 23 VZJ KTN JXHTQMNIF 18\n",
      "XIBXS UYI WIVE GMJVEHS, WIQ EGIRXS, GSQ E GLEZI 23 UYI JSM IWGSPLMHE 19\n",
      "WHAWR TXH VHUD FLIUDGR, VHP DFHQWR, FRP D FKDYH 23 TXH IRL HVFROKLGD 20\n",
      "VGZVQ SWG UGTC EKHTCFQ, UGO CEGPVQ, EQO C EJCXG 23 SWG HQK GUEQNJKFC 21\n",
      "UFYUP RVF TFSB DJGSBEP, TFN BDFOUP, DPN B DIBWF 23 RVF GPJ FTDPMIJEB 22\n",
      "TEXTO QUE SERA CIFRADO, SEM ACENTO, COM A CHAVE 23 QUE FOI ESCOLHIDA 23\n",
      "SDWSN PTD RDQZ BHEQZCN, RDL ZBDMSN, BNL Z BGZUD 23 PTD ENH DRBNKGHCZ 24\n",
      "RCVRM OSC QCPY AGDPYBM, QCK YACLRM, AMK Y AFYTC 23 OSC DMG CQAMJFGBY 25\n"
     ]
    }
   ],
   "source": [
    "# QUEBRAR A CRIPTOGRAFIA POR FORÇA BRUTA\n",
    "\n",
    "L2I = dict(zip('ABCDEFGHIJKLMNOPQRSTUVWXYZ',range(26)))\n",
    "I2L = dict(zip(range(26),'ABCDEFGHIJKLMNOPQRSTUVWXYZ'))\n",
    "\n",
    "key = 0\n",
    "ciphertext = 'QBUQL NRB PBOX ZFCOXAL, PBJ XZBKQL, ZLJ X ZEXSB 23 NRB CLF BPZLIEFAX'\n",
    "i = 0\n",
    "\n",
    "while i < 26:\n",
    "    plaintext2 = \"\"\n",
    "    for c in ciphertext.upper():\n",
    "        if c.isalpha():\n",
    "            plaintext2 += I2L[(L2I[c] + key)%26]\n",
    "        else:\n",
    "            plaintext2 += c\n",
    "    key += -1\n",
    "    chave = (key + 1) * -1\n",
    "    print(plaintext2 + ' ' + str(chave))\n",
    "    i += 1"
   ]
  },
  {
   "cell_type": "code",
   "execution_count": null,
   "metadata": {},
   "outputs": [],
   "source": []
  },
  {
   "cell_type": "code",
   "execution_count": 4,
   "metadata": {},
   "outputs": [
    {
     "name": "stdout",
     "output_type": "stream",
     "text": [
      "IA UIZOMVA LM CUI NTWZMABI MFQABQI, PI UCQBW BMUXW, CUI KIJIVI XWJZM NMQBI LM BZWVKWA LM IZDWZMA, WVLM UWZIDIU CU TMVPILWZ, ACI AMOCVLI MAXWAI M AMCA LWQA NQTPQVPWA, VIAKQLWA LW XZQUMQZW KIAIUMVBW. W OIZWBW KPIUIDI-AM RWIW M I UMVQVI, UIZQI.\n",
      "\n",
      "\n"
     ]
    }
   ],
   "source": [
    "# PARA CRIPTOGRAFAR A PARTIR DE UM ARQUIVO DE TEXTO\n",
    "\n",
    "L2I = dict(zip('ABCDEFGHIJKLMNOPQRSTUVWXYZ',range(26)))\n",
    "I2L = dict(zip(range(26),'ABCDEFGHIJKLMNOPQRSTUVWXYZ'))\n",
    "\n",
    "key = 8\n",
    "plaintext = ''\n",
    "ciphertext = ''\n",
    "\n",
    "text = open('texto.txt', 'r')\n",
    "for i in text:\n",
    "    plaintext += i.upper()\n",
    "\n",
    "#print(plaintext)\n",
    "\n",
    "try:\n",
    "    plaintext = plaintext.replace('Á', 'A').replace('À', 'A').replace('Ã', 'A').replace('Í', 'I').replace('É', 'E')\n",
    "    plaintext = plaintext.replace('Ó', 'O').replace('Ç', 'C').replace('Ê', 'E')\n",
    "except:\n",
    "    pass\n",
    "    \n",
    "for c in plaintext.upper():\n",
    "    if c.isalpha():\n",
    "        ciphertext += I2L[(L2I[c] + key)%26]\n",
    "        #print(ciphertext)\n",
    "    else:\n",
    "        ciphertext += c\n",
    "\n",
    "# print(plaintext)\n",
    "print(ciphertext)\n",
    "\n",
    "\n",
    "with open('cifra.txt', 'w') as f:\n",
    "    f.writelines(ciphertext)"
   ]
  },
  {
   "cell_type": "code",
   "execution_count": null,
   "metadata": {},
   "outputs": [],
   "source": []
  },
  {
   "cell_type": "code",
   "execution_count": 5,
   "metadata": {},
   "outputs": [
    {
     "name": "stdout",
     "output_type": "stream",
     "text": [
      "AS MARGENS DE UMA FLORESTA EXISTIA, HA MUITO TEMPO, UMA CABANA POBRE FEITA DE TRONCOS DE ARVORES, ONDE MORAVAM UM LENHADOR, SUA SEGUNDA ESPOSA E SEUS DOIS FILHINHOS, NASCIDOS DO PRIMEIRO CASAMENTO. O GAROTO CHAMAVA-SE JOAO E A MENINA, MARIA.\n",
      "\n",
      "\n"
     ]
    }
   ],
   "source": [
    "# PARA DESCRIPTOGRAFAR A PARTIR DE UM ARQUIVO DE TEXTO\n",
    "\n",
    "L2I = dict(zip('ABCDEFGHIJKLMNOPQRSTUVWXYZ',range(26)))\n",
    "I2L = dict(zip(range(26),'ABCDEFGHIJKLMNOPQRSTUVWXYZ'))\n",
    "\n",
    "key = -8\n",
    "ciphertext = ''\n",
    "plaintext2 = ''\n",
    "\n",
    "text = open('cifra.txt', 'r')\n",
    "for i in text:\n",
    "    ciphertext += i\n",
    "\n",
    "for c in ciphertext.upper():\n",
    "    if c.isalpha():\n",
    "        plaintext2 += I2L[(L2I[c] + key)%26]\n",
    "    else:\n",
    "        plaintext2 += c\n",
    "\n",
    "print(plaintext2)"
   ]
  }
 ],
 "metadata": {
  "kernelspec": {
   "display_name": "Python 3",
   "language": "python",
   "name": "python3"
  },
  "language_info": {
   "codemirror_mode": {
    "name": "ipython",
    "version": 3
   },
   "file_extension": ".py",
   "mimetype": "text/x-python",
   "name": "python",
   "nbconvert_exporter": "python",
   "pygments_lexer": "ipython3",
   "version": "3.5.6"
  }
 },
 "nbformat": 4,
 "nbformat_minor": 2
}
